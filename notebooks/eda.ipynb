{
 "cells": [
  {
   "cell_type": "code",
   "execution_count": null,
   "metadata": {},
   "outputs": [],
   "source": [
    "from zod import ZodFrames\n",
    "import zod.constants as constants\n",
    "from zod.constants import AnnotationProject, Anonymization\n",
    "\n",
    "import pandas as pd\n",
    "import plotly.express as px\n",
    "from typing import List\n",
    "\n",
    "dataset_root = \"../data/zod\"\n",
    "version = \"full\" \n"
   ]
  },
  {
   "cell_type": "code",
   "execution_count": null,
   "metadata": {},
   "outputs": [],
   "source": [
    "zod_frames = ZodFrames(dataset_root=dataset_root, version=version)\n",
    "training_frame_ids = zod_frames.get_split(constants.TRAIN)\n",
    "validation_frame_ids = zod_frames.get_split(constants.VAL)\n",
    "\n",
    "print(f\"Number of training frames: {len(training_frame_ids)}\")\n",
    "print(f\"Number of validation frames: {len(validation_frame_ids)}\")\n",
    "\n",
    "print(\"The 5 first training frames have the ids:\", sorted(list(training_frame_ids))[:5])"
   ]
  },
  {
   "cell_type": "code",
   "execution_count": null,
   "metadata": {},
   "outputs": [],
   "source": [
    "def convert_zod_to_pandas(ids, zod_dataset):\n",
    "    \n",
    "    data_list = []\n",
    "    for frame_id in ids:\n",
    "        frame = zod_dataset[frame_id]\n",
    "        data_list.append(\n",
    "            {\n",
    "                \"frame_id\": frame.metadata.frame_id,\n",
    "                \"country_code\": frame.metadata.country_code,\n",
    "                \"road_condition\": frame.metadata.road_condition,\n",
    "                \"road_type\": frame.metadata.road_type,\n",
    "                \"scraped_weather\": frame.metadata.scraped_weather,\n",
    "                \"time_of_day\": frame.metadata.time_of_day,\n",
    "            }\n",
    "        )\n",
    "    return pd.DataFrame(data_list)"
   ]
  },
  {
   "cell_type": "code",
   "execution_count": null,
   "metadata": {},
   "outputs": [],
   "source": [
    "df_train = convert_zod_to_pandas(training_frame_ids, zod_frames)\n",
    "print(f\"Train dataset size {len(df_train)}\")\n",
    "df_val = convert_zod_to_pandas(validation_frame_ids, zod_frames)\n",
    "print(f\"Val dataset size {len(df_val)}\")"
   ]
  },
  {
   "cell_type": "markdown",
   "metadata": {},
   "source": [
    "## Visual statistics - all frames"
   ]
  },
  {
   "cell_type": "code",
   "execution_count": null,
   "metadata": {},
   "outputs": [],
   "source": [
    "df_train.head(10)"
   ]
  },
  {
   "cell_type": "code",
   "execution_count": null,
   "metadata": {},
   "outputs": [],
   "source": [
    "def plot_categories(df_combined, categorical_fields):\n",
    "    for field in categorical_fields:\n",
    "        df_count = df_combined.groupby([field, \"dataset\"]).size().reset_index(name=\"Count\")\n",
    "        fig = px.bar(df_count, x=field, y=\"Count\", color=\"dataset\", barmode=\"stack\",\n",
    "                     labels={field: field, \"Count\": \"Count\"},\n",
    "                     title=f\"Distribution of {field} in Train and Validation Data\")\n",
    "        fig.show()\n",
    "\n",
    "    if \"solar_angle_elevation\" in df_combined.columns:\n",
    "        fig = px.histogram(df_combined, x=\"solar_angle_elevation\", color=\"dataset\", barmode=\"overlay\",\n",
    "                           title=\"Distribution of Solar Angle Elevation in Train and Validation Data\",\n",
    "                           labels={\"solar_angle_elevation\": \"Solar Angle Elevation\"})\n",
    "        fig.show()\n",
    "\n",
    "df_train[\"dataset\"] = \"train\"\n",
    "df_val[\"dataset\"] = \"val\"\n",
    "df_combined = pd.concat([df_train, df_val], ignore_index=True)\n",
    "\n",
    "categorical_fields = [\"country_code\", \"road_condition\", \"road_type\", \"scraped_weather\", \"time_of_day\"]\n",
    "plot_categories(df_combined, categorical_fields)"
   ]
  },
  {
   "cell_type": "markdown",
   "metadata": {},
   "source": [
    "## Annotation filtering"
   ]
  },
  {
   "cell_type": "markdown",
   "metadata": {},
   "source": [
    "### Modifed json conversion code"
   ]
  },
  {
   "cell_type": "code",
   "execution_count": null,
   "metadata": {},
   "outputs": [],
   "source": [
    "\"\"\"Copied and modified from zod/cli/generate_coco_json.py\"\"\"\n",
    "\"\"\"Modifications: \n",
    "    - filter frames by countries\n",
    "\"\"\"\n",
    "\"\"\"This module will generate a COCO JSON file from the ZOD dataset.\"\"\"\n",
    "import json\n",
    "import os\n",
    "from functools import partial\n",
    "from pathlib import Path\n",
    "from typing import List, Tuple\n",
    "\n",
    "import typer\n",
    "from tqdm.contrib.concurrent import process_map\n",
    "\n",
    "from zod import ZodFrames\n",
    "from zod.anno.object import OBJECT_CLASSES, ObjectAnnotation\n",
    "from zod.constants import AnnotationProject, Anonymization\n",
    "from zod.data_classes.frame import ZodFrame\n",
    "from zod.utils.utils import str_from_datetime\n",
    "\n",
    "# Map classes to categories, starting from 1\n",
    "CATEGORY_NAME_TO_ID = {cls: i + 1 for i, cls in enumerate(OBJECT_CLASSES)}\n",
    "OPEN_DATASET_URL = (\n",
    "    \"https://www.ai.se/en/data-factory/datasets/data-factory-datasets/zenseact-open-dataset\"\n",
    ")\n",
    "\n",
    "\n",
    "def _convert_frame(\n",
    "    frame: ZodFrame, \n",
    "    classes: List[str], \n",
    "    anonymization: Anonymization, \n",
    "    use_png: bool, \n",
    "    allowed_country_codes: List[str]\n",
    ") -> Tuple[dict, List[dict]]:\n",
    "    if allowed_country_codes and frame.metadata.country_code not in allowed_country_codes:\n",
    "        return None, []  # Skip frames not in the allowed countries\n",
    "\n",
    "\n",
    "    objs: List[ObjectAnnotation] = frame.get_annotation(AnnotationProject.OBJECT_DETECTION)\n",
    "    camera_frame = frame.info.get_key_camera_frame(anonymization=anonymization)\n",
    "    file_name = camera_frame.filepath\n",
    "\n",
    "    if anonymization == Anonymization.ORIGINAL:\n",
    "        file_name = file_name.replace(Anonymization.BLUR.value, Anonymization.ORIGINAL.value)\n",
    "    if use_png:\n",
    "        file_name = file_name.replace(\".jpg\", \".png\")\n",
    "\n",
    "    image_dict = {\n",
    "        \"id\": int(frame.info.id),\n",
    "        \"license\": 1,\n",
    "        \"file_name\": file_name,\n",
    "        \"height\": camera_frame.height,\n",
    "        \"width\": camera_frame.width,\n",
    "        \"date_captured\": str_from_datetime(frame.info.keyframe_time),\n",
    "        \"metadata\" : {\n",
    "            \"country_code\": frame.metadata.country_code,\n",
    "            \"latitude\": frame.metadata.latitude,\n",
    "            \"longitude\": frame.metadata.longitude,\n",
    "            \"road_condition\": frame.metadata.road_condition,\n",
    "            \"road_type\": frame.metadata.road_type,\n",
    "            \"scraped_weather\": frame.metadata.scraped_weather,\n",
    "            \"solar_angle_elevation\": frame.metadata.solar_angle_elevation,\n",
    "            \"time_of_day\": frame.metadata.time_of_day,\n",
    "        }\n",
    "    }\n",
    "    anno_dicts = [\n",
    "        {\n",
    "            # avoid collisions by assuming max 1k objects per frame\n",
    "            \"id\": int(frame.info.id) * 1000 + obj_idx,\n",
    "            \"image_id\": int(frame.info.id),\n",
    "            \"category_id\": CATEGORY_NAME_TO_ID[obj.name],\n",
    "            \"bbox\": [round(val, 2) for val in obj.box2d.xywh.tolist()],\n",
    "            \"area\": round(obj.box2d.area, 2),\n",
    "            \"iscrowd\": obj.subclass == \"Unclear\",\n",
    "            \"occusion_level\": obj.occlusion_level\n",
    "\n",
    "        }\n",
    "        for obj_idx, obj in enumerate(objs)\n",
    "        if obj.name in classes\n",
    "    ]\n",
    "    return image_dict, anno_dicts\n",
    "\n",
    "\n",
    "def generate_coco_json(\n",
    "    dataset: ZodFrames,\n",
    "    split: str,\n",
    "    classes: List[str],\n",
    "    allowed_country_codes: List[str],\n",
    "    anonymization: Anonymization,\n",
    "    use_png: bool,\n",
    ") -> dict:\n",
    "    \"\"\"Generate COCO JSON file from the ZOD dataset.\"\"\"\n",
    "    assert split in [\"train\", \"val\"], f\"Unknown split: {split}\"\n",
    "    frame_infos = [dataset[frame_id] for frame_id in dataset.get_split(split)]\n",
    "    _convert_frame_w_classes = partial(\n",
    "        _convert_frame, \n",
    "        classes=classes, \n",
    "        allowed_country_codes=allowed_country_codes, \n",
    "        anonymization=anonymization, \n",
    "        use_png=use_png\n",
    "    )\n",
    "    results = process_map(\n",
    "        _convert_frame_w_classes,\n",
    "        frame_infos,\n",
    "        desc=f\"Converting {split} frames\",\n",
    "        chunksize=50 if dataset._version == \"full\" else 1,\n",
    "    )\n",
    "\n",
    "    image_dicts, all_annos = zip(*results)\n",
    "    anno_dicts = [anno for annos in all_annos for anno in annos]  # flatten\n",
    "    coco_json = {\n",
    "        \"images\": image_dicts,\n",
    "        \"annotations\": anno_dicts,\n",
    "        \"info\": {\n",
    "            \"description\": \"Zenseact Open Dataset\",\n",
    "            \"url\": OPEN_DATASET_URL,\n",
    "            \"version\": dataset._version,  # TODO: add dataset versioning\n",
    "            \"year\": 2022,\n",
    "            \"contributor\": \"ZOD team\",\n",
    "            \"date_created\": \"2022/12/15\",\n",
    "        },\n",
    "        \"licenses\": [\n",
    "            {\n",
    "                \"url\": \"https://creativecommons.org/licenses/by-sa/4.0/\",\n",
    "                \"name\": \"Attribution-ShareAlike 4.0 International (CC BY-SA 4.0)\",\n",
    "                \"id\": 1,\n",
    "            },\n",
    "        ],\n",
    "        \"categories\": [\n",
    "            {\"supercategory\": \"object\", \"id\": category_id, \"name\": category_name}\n",
    "            for category_name, category_id in CATEGORY_NAME_TO_ID.items()\n",
    "            if category_name in classes\n",
    "        ],\n",
    "    }\n",
    "    return coco_json"
   ]
  },
  {
   "cell_type": "markdown",
   "metadata": {},
   "source": [
    "### Results"
   ]
  },
  {
   "cell_type": "code",
   "execution_count": null,
   "metadata": {},
   "outputs": [],
   "source": [
    "# Cell runnable code (if `zod_frames` variable has been already created)\n",
    "# Parameters\n",
    "anonymization = Anonymization.BLUR\n",
    "classes = [\"Vehicle\", \"Pedestrian\", \"VulnerableVehicle\", \"Animal\"]\n",
    "use_png = False\n",
    "output_dir = os.path.abspath(os.path.join(dataset_root, \"coco\"))\n",
    "version = \"full\" \n",
    "allowed_country_codes = []\n",
    "allowed_country_codes_str = \",\".join(allowed_country_codes)\n",
    "split = \"train\"\n",
    "base_name = f\"zod_{version}_{anonymization}_{allowed_country_codes_str}\"\n",
    "if use_png:\n",
    "    base_name += \"_png\"\n",
    "\n",
    "\n",
    "\n",
    "coco_json_train = generate_coco_json(\n",
    "        zod_frames, split=\"train\", \n",
    "        classes=classes, \n",
    "        allowed_country_codes=allowed_country_codes, \n",
    "        anonymization=anonymization, \n",
    "        use_png=use_png\n",
    "    )\n",
    "with open(os.path.join(output_dir, f\"{base_name}_train.json\"), \"w\") as f:\n",
    "    json.dump(coco_json_train, f)\n",
    "\n",
    "coco_json_val = generate_coco_json(\n",
    "    zod_frames, \n",
    "    split=\"val\", \n",
    "    classes=classes, \n",
    "    allowed_country_codes=allowed_country_codes, \n",
    "    anonymization=anonymization, \n",
    "    use_png=use_png\n",
    ")\n",
    "with open(os.path.join(output_dir, f\"{base_name}_val.json\"), \"w\") as f:\n",
    "    json.dump(coco_json_val, f)"
   ]
  },
  {
   "cell_type": "markdown",
   "metadata": {},
   "source": [
    "## "
   ]
  },
  {
   "cell_type": "markdown",
   "metadata": {},
   "source": [
    "## YOLO conversion"
   ]
  },
  {
   "cell_type": "code",
   "execution_count": null,
   "metadata": {},
   "outputs": [],
   "source": [
    "from ultralytics.data.converter import convert_coco\n",
    "\n",
    "convert_coco(labels_dir=\"../data/coco/annotations/\")"
   ]
  },
  {
   "cell_type": "markdown",
   "metadata": {},
   "source": [
    "## Other, unfinished"
   ]
  },
  {
   "cell_type": "code",
   "execution_count": null,
   "metadata": {},
   "outputs": [],
   "source": [
    "# Classes \n",
    "classes = [\"Vehicle\", \"VulnerableVehicle\", \"Pedestrian\", \"Animal\"]\n",
    "class_ids = {(cls_name, idx) for idx, cls_name in enumerate(classes)}\n",
    "# Filter \n",
    "# Problem: I do not know what are the options. Let's continue without them for now\n",
    "# occussion_levels = []\n",
    "\n",
    "# Filter ObjectAnnotation.unclear = False and annotation.occlusion_level == \n",
    "\n",
    "for id in training_frame_ids:\n",
    "    frame = zod_frames[id]\n",
    "    objs = frame.get_annotation(AnnotationProject.OBJECT_DETECTION)\n",
    "    anno_list = [\n",
    "        [class_ids[obj.name],\n",
    "        obj.xyxy] \n",
    "        for obj in objs \n",
    "        if (obj.name in classes and obj.occusion_level in occussion_levels)\n",
    "        ]\n",
    "    print(id)\n"
   ]
  },
  {
   "cell_type": "markdown",
   "metadata": {},
   "source": [
    "## Filter by country"
   ]
  },
  {
   "cell_type": "code",
   "execution_count": null,
   "metadata": {},
   "outputs": [],
   "source": [
    "df_train_country = df_train.groupby(\"country_code\")"
   ]
  }
 ],
 "metadata": {
  "kernelspec": {
   "display_name": ".cont-lear-venv",
   "language": "python",
   "name": "python3"
  },
  "language_info": {
   "codemirror_mode": {
    "name": "ipython",
    "version": 3
   },
   "file_extension": ".py",
   "mimetype": "text/x-python",
   "name": "python",
   "nbconvert_exporter": "python",
   "pygments_lexer": "ipython3",
   "version": "3.10.12"
  }
 },
 "nbformat": 4,
 "nbformat_minor": 2
}
