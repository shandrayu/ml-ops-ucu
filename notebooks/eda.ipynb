{
 "cells": [
  {
   "cell_type": "code",
   "execution_count": null,
   "metadata": {},
   "outputs": [],
   "source": [
    "from zod import ZodFrames\n",
    "import zod.constants as constants\n",
    "\n",
    "import pandas as pd\n",
    "\n",
    "dataset_root = \"/home/yshand/repos/cont-learning/data/zod\"\n",
    "version = \"full\" \n"
   ]
  },
  {
   "cell_type": "code",
   "execution_count": null,
   "metadata": {},
   "outputs": [],
   "source": [
    "zod_frames = ZodFrames(dataset_root=dataset_root, version=version)\n",
    "training_frames = zod_frames.get_split(constants.TRAIN)\n",
    "validation_frames = zod_frames.get_split(constants.VAL)\n",
    "\n",
    "print(f\"Number of training frames: {len(training_frames)}\")\n",
    "print(f\"Number of validation frames: {len(validation_frames)}\")\n",
    "\n",
    "print(\"The 5 first training frames have the ids:\", sorted(list(training_frames))[:5])"
   ]
  },
  {
   "cell_type": "code",
   "execution_count": null,
   "metadata": {},
   "outputs": [],
   "source": [
    "def convert_zod_to_pandas(zod_dataset):\n",
    "    \n",
    "    data_list = []\n",
    "    for frame in zod_frames:\n",
    "        data_list.append(\n",
    "            {\n",
    "                \"frame_id\": frame.metadata.frame_id,\n",
    "                \"country_code\": frame.metadata.country_code,\n",
    "                \"road_condition\": frame.metadata.road_condition,\n",
    "                \"road_type\": frame.metadata.road_type,\n",
    "                \"scraped_weather\": frame.metadata.scraped_weather,\n",
    "                \"time_of_day\": frame.metadata.time_of_day,\n",
    "            }\n",
    "        )\n",
    "    return pd.DataFrame(data_list)"
   ]
  },
  {
   "cell_type": "code",
   "execution_count": null,
   "metadata": {},
   "outputs": [],
   "source": [
    "df_train = convert_zod_to_pandas(training_frames)\n",
    "df_val = convert_zod_to_pandas(validation_frames)"
   ]
  }
 ],
 "metadata": {
  "kernelspec": {
   "display_name": ".cont-lear-venv",
   "language": "python",
   "name": "python3"
  },
  "language_info": {
   "codemirror_mode": {
    "name": "ipython",
    "version": 3
   },
   "file_extension": ".py",
   "mimetype": "text/x-python",
   "name": "python",
   "nbconvert_exporter": "python",
   "pygments_lexer": "ipython3",
   "version": "3.10.12"
  }
 },
 "nbformat": 4,
 "nbformat_minor": 2
}
