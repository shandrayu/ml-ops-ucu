{
 "cells": [
  {
   "cell_type": "code",
   "execution_count": null,
   "metadata": {},
   "outputs": [],
   "source": [
    "from zod import ZodFrames\n",
    "import zod.constants as constants\n",
    "from zod.constants import AnnotationProject, Anonymization\n",
    "\n",
    "import pandas as pd\n",
    "from concurrent.futures import ProcessPoolExecutor, as_completed\n",
    "import plotly.express as px\n",
    "from typing import List\n",
    "\n",
    "import os\n",
    "import sys\n",
    "\n",
    "parent_dir = os.path.abspath(os.path.join(os.getcwd(), os.pardir))\n",
    "sys.path.insert(0, parent_dir)\n",
    "\n",
    "from utils.dataset_transformer import convert_zod_to_pandas\n",
    "\n",
    "dataset_root = \"../data/zod\"\n",
    "version = \"full\" "
   ]
  },
  {
   "cell_type": "code",
   "execution_count": null,
   "metadata": {},
   "outputs": [],
   "source": [
    "zod_frames = ZodFrames(dataset_root=dataset_root, version=version)\n",
    "training_frame_ids = zod_frames.get_split(constants.TRAIN)\n",
    "validation_frame_ids = zod_frames.get_split(constants.VAL)\n",
    "\n",
    "print(f\"Number of training frames: {len(training_frame_ids)}\")\n",
    "print(f\"Number of validation frames: {len(validation_frame_ids)}\")\n",
    "\n",
    "print(\"The 5 first training frames have the ids:\", sorted(list(training_frame_ids))[:5])"
   ]
  },
  {
   "cell_type": "code",
   "execution_count": null,
   "metadata": {},
   "outputs": [],
   "source": [
    "df_train, objects_train = convert_zod_to_pandas(\n",
    "    ids=training_frame_ids,\n",
    "    zod_dataset=zod_frames,\n",
    "    name=\"train\",\n",
    "    load_buffer_if_available=False,\n",
    ")\n",
    "print(f\"Train dataset size {len(df_train)}\")\n",
    "df_val, objects_val = convert_zod_to_pandas(\n",
    "    ids=validation_frame_ids,\n",
    "    zod_dataset=zod_frames,\n",
    "    name=\"val\",\n",
    "    load_buffer_if_available=False,\n",
    ")\n",
    "print(f\"Val dataset size {len(df_val)}\")"
   ]
  },
  {
   "cell_type": "code",
   "execution_count": null,
   "metadata": {},
   "outputs": [],
   "source": [
    "field = \"country_code\"\n",
    "df_count = df_train.groupby([field]).size().reset_index(name=\"Count\")\n",
    "fig = px.pie(df_count, names=field, values=\"Count\", \n",
    "             labels={field: field, \"Count\": \"Count\"},\n",
    "             title=f\"Distribution of {field} in Train Data\")\n",
    "fig.update_layout(height=800) \n",
    "fig.show()"
   ]
  },
  {
   "cell_type": "code",
   "execution_count": null,
   "metadata": {},
   "outputs": [],
   "source": [
    "def plot_categories(df_combined, categorical_fields):\n",
    "    for field in categorical_fields:\n",
    "        df_count = df_combined.groupby([field, \"dataset\"]).size().reset_index(name=\"Count\")\n",
    "        fig = px.bar(df_count, x=field, y=\"Count\", color=\"dataset\", barmode=\"stack\",\n",
    "                     labels={field: field, \"Count\": \"Count\"},\n",
    "                     title=f\"Distribution of {field} in Train and Validation Data\")\n",
    "        fig.show()\n",
    "\n",
    "    if \"solar_angle_elevation\" in df_combined.columns:\n",
    "        fig = px.histogram(df_combined, x=\"solar_angle_elevation\", color=\"dataset\", barmode=\"overlay\",\n",
    "                           title=\"Distribution of Solar Angle Elevation in Train and Validation Data\",\n",
    "                           labels={\"solar_angle_elevation\": \"Solar Angle Elevation\"})\n",
    "        fig.show()\n",
    "\n",
    "df_train[\"dataset\"] = \"train\"\n",
    "df_val[\"dataset\"] = \"val\"\n",
    "df_combined = pd.concat([df_train, df_val], ignore_index=True)\n",
    "\n",
    "categorical_fields = [\"country_code\"]#, \"road_condition\", \"road_type\", \"scraped_weather\", \"time_of_day\"]\n",
    "plot_categories(df_combined, categorical_fields)"
   ]
  }
 ],
 "metadata": {
  "kernelspec": {
   "display_name": ".cont-lear-venv",
   "language": "python",
   "name": "python3"
  },
  "language_info": {
   "codemirror_mode": {
    "name": "ipython",
    "version": 3
   },
   "file_extension": ".py",
   "mimetype": "text/x-python",
   "name": "python",
   "nbconvert_exporter": "python",
   "pygments_lexer": "ipython3",
   "version": "3.10.12"
  }
 },
 "nbformat": 4,
 "nbformat_minor": 2
}
